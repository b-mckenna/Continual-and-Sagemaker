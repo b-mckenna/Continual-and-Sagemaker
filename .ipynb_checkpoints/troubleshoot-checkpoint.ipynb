{
 "cells": [
  {
   "cell_type": "code",
   "execution_count": null,
   "id": "13c49adc-73cf-46a4-a346-0ffdddd77483",
   "metadata": {},
   "outputs": [],
   "source": [
    "continual_api_key = 'apikey/4ca70a3a49c142f0a73be901a0b8bef8'"
   ]
  },
  {
   "cell_type": "code",
   "execution_count": null,
   "id": "2c7b3ae9-925d-43c4-bd7d-41f95d75b2d2",
   "metadata": {},
   "outputs": [],
   "source": [
    "import continual\n",
    "from continual import Client\n",
    "\n",
    "client = Client(api_key='apikey/4ca70a3a49c142f0a73be901a0b8bef8', endpoint=\"https://sdk.continual.ai\", project=\"projects/scikit_learn_github_actio_9\", environment=\"production\",verify=True)\n",
    "client.runs.get(\"3962095355-2\").continual_app_url"
   ]
  },
  {
   "cell_type": "code",
   "execution_count": null,
   "id": "ba8c79c8-bed5-4977-b922-8ff433f2412a",
   "metadata": {},
   "outputs": [],
   "source": [
    "client.config.show()"
   ]
  }
 ],
 "metadata": {
  "instance_type": "ml.t3.medium",
  "kernelspec": {
   "display_name": "Python 3 (Data Science)",
   "language": "python",
   "name": "python3__SAGEMAKER_INTERNAL__arn:aws:sagemaker:us-east-1:081325390199:image/datascience-1.0"
  },
  "language_info": {
   "codemirror_mode": {
    "name": "ipython",
    "version": 3
   },
   "file_extension": ".py",
   "mimetype": "text/x-python",
   "name": "python",
   "nbconvert_exporter": "python",
   "pygments_lexer": "ipython3",
   "version": "3.7.10"
  }
 },
 "nbformat": 4,
 "nbformat_minor": 5
}
